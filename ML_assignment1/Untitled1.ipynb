{
 "cells": [
  {
   "cell_type": "code",
   "execution_count": 12,
   "metadata": {},
   "outputs": [],
   "source": [
    "import re\n",
    "import string"
   ]
  },
  {
   "cell_type": "code",
   "execution_count": 13,
   "metadata": {},
   "outputs": [],
   "source": [
    "alphabet = \"abcdefghijklmnopqrstuvwxyz\"\n",
    "def encrypt(msg, key):\n",
    "   return msg.translate(string.maketrans(alphabet, key))"
   ]
  },
  {
   "cell_type": "code",
   "execution_count": null,
   "metadata": {},
   "outputs": [],
   "source": [
    "def decrypt(msg, key):\n",
    "   return msg.translate(string.maketrans(key, alphabet))"
   ]
  },
  {
   "cell_type": "code",
   "execution_count": 14,
   "metadata": {},
   "outputs": [],
   "source": [
    "def keySwap(key, a, b):\n",
    "   return key.translate(string.maketrans(a+b, b+a))"
   ]
  },
  {
   "cell_type": "code",
   "execution_count": 15,
   "metadata": {},
   "outputs": [],
   "source": [
    "def steepestAscent(posn, evaluatePosn, generateNeighbors, numSteps):\n",
    "   val = evaluatePosn(posn)\n",
    "   neighbors = generateNeighbors(posn)\n",
    " \n",
    "   for i in numSteps:\n",
    "     next = neighbors.next()\n",
    "     nextVal = evaluatePosn(next)\n",
    " \n",
    "     if nextVal > val:\n",
    "        val = nextVal\n",
    "        posn = next\n",
    "        neighbors = generateNeighbors(next)\n",
    " \n",
    "   return posn"
   ]
  },
  {
   "cell_type": "code",
   "execution_count": 16,
   "metadata": {},
   "outputs": [],
   "source": [
    "def letterNGrams(msg, n):\n",
    "   return [msg[i:i+n] for i in range(len(msg) - (n-1))]"
   ]
  },
  {
   "cell_type": "code",
   "execution_count": 2,
   "metadata": {},
   "outputs": [],
   "source": [
    "def steepestAscent(msg, key, decryptionFitness, numSteps):\n",
    "   decryption = decrypt(msg, key)\n",
    "   value = decryptionFitness(decryption)\n",
    "   neighbors = iter(neighboringKeys(key, decryption))\n",
    " \n",
    "   for step in range(numSteps):\n",
    "      nextKey = neighbors.next()\n",
    "      nextDecryption = decrypt(msg, nextKey)\n",
    "      nextValue = decryptionFitness(nextDecryption)\n",
    " \n",
    "      if nextValue > value:\n",
    "         key, decryption, value = nextKey, nextDecryption, nextValue\n",
    "         neighbors = iter(neighboringKeys(key, decryption))\n",
    "         print((decryption, key))\n",
    " \n",
    "   return decryption"
   ]
  },
  {
   "cell_type": "code",
   "execution_count": 11,
   "metadata": {},
   "outputs": [
    {
     "ename": "NameError",
     "evalue": "name 'OneGramDist' is not defined",
     "output_type": "error",
     "traceback": [
      "\u001b[0;31m---------------------------------------------------------------------------\u001b[0m",
      "\u001b[0;31mNameError\u001b[0m                                 Traceback (most recent call last)",
      "\u001b[0;32m<ipython-input-11-a234e1768b3f>\u001b[0m in \u001b[0;36m<module>\u001b[0;34m\u001b[0m\n\u001b[0;32m----> 1\u001b[0;31m \u001b[0mbigramLetterProb\u001b[0m \u001b[0;34m=\u001b[0m \u001b[0mOneGramDist\u001b[0m\u001b[0;34m(\u001b[0m\u001b[0;34m'count-2l.txt'\u001b[0m\u001b[0;34m)\u001b[0m\u001b[0;34m\u001b[0m\u001b[0;34m\u001b[0m\u001b[0m\n\u001b[0m\u001b[1;32m      2\u001b[0m \u001b[0;32mdef\u001b[0m \u001b[0mneighboringKeys\u001b[0m\u001b[0;34m(\u001b[0m\u001b[0mkey\u001b[0m\u001b[0;34m,\u001b[0m \u001b[0mdecryptedMsg\u001b[0m\u001b[0;34m)\u001b[0m\u001b[0;34m:\u001b[0m\u001b[0;34m\u001b[0m\u001b[0;34m\u001b[0m\u001b[0m\n\u001b[1;32m      3\u001b[0m    bigrams = sorted(letterNGrams(decryptedMsg, 2),\n\u001b[1;32m      4\u001b[0m                     key=bigramLetterProb)[:30]\n\u001b[1;32m      5\u001b[0m \u001b[0;34m\u001b[0m\u001b[0m\n",
      "\u001b[0;31mNameError\u001b[0m: name 'OneGramDist' is not defined"
     ]
    }
   ],
   "source": [
    "bigramLetterProb = OneGramDist('count-2l.txt')\n",
    "def neighboringKeys(key, decryptedMsg):\n",
    "   bigrams = sorted(letterNGrams(decryptedMsg, 2),\n",
    "                    key=bigramLetterProb)[:30]\n",
    " \n",
    "   for c1, c2 in bigrams:\n",
    "      for a in shuffled(alphabet):\n",
    "         if c1 == c2 and bigramLetterProb(a+a) > bigramLetterProb(c1+c2):\n",
    "            yield keySwap(key, a, c1)\n",
    "         else:\n",
    "            if bigramLetterProb(a+c2) > bigramLetterProb(c1+c2):\n",
    "               yield keySwap(key, a, c1)\n",
    "            if bigramLetterProb(c1+a) > bigramLetterProb(c1+c2):\n",
    "               yield keySwap(key, a, c2)\n",
    " \n",
    "   while True:\n",
    "        yield keySwap(key, random.choice(alphabet),\n",
    "                         random.choice(alphabet))"
   ]
  },
  {
   "cell_type": "code",
   "execution_count": null,
   "metadata": {},
   "outputs": [],
   "source": [
    "def shuffled(s):\n",
    "   sList = list(s)\n",
    "   random.shuffle(sList)\n",
    "   return ''.join(sList)\n",
    " \n",
    "def preprocessInputMessage(chars):\n",
    "   return ''.join(re.findall('[a-z]+', chars.lower()))\n",
    " \n",
    "def crackSubstitution(msg, numSteps = 5000, restarts = 30):\n",
    "   msg = preprocessInputMessage(msg)\n",
    "   startingKeys = [shuffled(alphabet) for i in range(restarts)]\n",
    "   localMaxes = [steepestAscent(msg, key, trigramStringProb, numSteps)\n",
    "                 for key in startingKeys]\n",
    " \n",
    "   for x in localMaxes:\n",
    "      print(segmentWithProb(x))\n",
    " \n",
    "   prob, words = max(segmentWithProb(decryption) for decryption in localMaxes)\n",
    "   return ' '.join(words)"
   ]
  },
  {
   "cell_type": "code",
   "execution_count": null,
   "metadata": {},
   "outputs": [],
   "source": [
    "msg = 'ujejvzrqfeygesvsoofsujwigfeestgufvvzgujjejcfwf\\\n",
    "qfevlgwvswpzsizfnasvvgeswnqfevrpfovfyswnqafigfvqegisogarv\\\n",
    "zgoflgljlgwvfxgfkvsckaxkvtfikjkoozjpnseafeestgufvvzgujje'"
   ]
  },
  {
   "cell_type": "code",
   "execution_count": null,
   "metadata": {},
   "outputs": [],
   "source": [
    "crackSubstitution(msg)"
   ]
  },
  {
   "cell_type": "code",
   "execution_count": null,
   "metadata": {},
   "outputs": [],
   "source": []
  }
 ],
 "metadata": {
  "kernelspec": {
   "display_name": "Python 3",
   "language": "python",
   "name": "python3"
  },
  "language_info": {
   "codemirror_mode": {
    "name": "ipython",
    "version": 3
   },
   "file_extension": ".py",
   "mimetype": "text/x-python",
   "name": "python",
   "nbconvert_exporter": "python",
   "pygments_lexer": "ipython3",
   "version": "3.7.4"
  }
 },
 "nbformat": 4,
 "nbformat_minor": 2
}
