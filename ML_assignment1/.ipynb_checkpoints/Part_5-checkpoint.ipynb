{
 "cells": [
  {
   "cell_type": "code",
   "execution_count": 1,
   "metadata": {},
   "outputs": [],
   "source": [
    "import numpy as np\n",
    "import pandas as pd\n",
    "import matplotlib.pyplot as plt \n",
    "import math"
   ]
  },
  {
   "cell_type": "code",
   "execution_count": 2,
   "metadata": {},
   "outputs": [],
   "source": [
    "dataset = pd.read_csv(\"/Users/avanijain/Documents/ML_assignment1/x06Simple.csv\")"
   ]
  },
  {
   "cell_type": "code",
   "execution_count": 3,
   "metadata": {},
   "outputs": [
    {
     "name": "stdout",
     "output_type": "stream",
     "text": [
      "4\n"
     ]
    }
   ],
   "source": [
    "#randomizing the data set\n",
    "\n",
    "data = dataset.iloc[:, 0:4].values\n",
    "X = len(dataset.iloc[0,:].values)\n",
    "print(X)\n",
    "\n",
    "np.random.seed(0)\n",
    "np.random.shuffle(data)\n",
    "\n",
    "x1 = data[:,[1,X-2]]\n",
    "x2 = data[:,X-1]"
   ]
  },
  {
   "cell_type": "code",
   "execution_count": 4,
   "metadata": {},
   "outputs": [],
   "source": [
    "#splitting the dataset\n",
    "\n",
    "from sklearn.model_selection import train_test_split\n",
    "x_train, x_test, y_train, y_test = train_test_split(x1, x2, test_size = 1/3)"
   ]
  },
  {
   "cell_type": "code",
   "execution_count": 5,
   "metadata": {},
   "outputs": [],
   "source": [
    "#standardizing the feature vector\n",
    "\n",
    "#mean = np.mean(x_train, axis=0)\n",
    "#standard = np.std(x_train, axis =0, ddof=1)\n",
    "#x_train = (x_train-mean)/standard\n",
    "\n",
    "#x_test = (x_test-mean)/standard\n",
    "\n",
    "x_s_train = (x_train - np.mean(x_train)) / np.std(x_train, ddof = 1)\n",
    "#print(X_S_train)\n",
    "x_test = (x_test - np.mean(x_train)) / np.std(x_train, ddof = 1)\n",
    "#print(X_test)"
   ]
  },
  {
   "cell_type": "code",
   "execution_count": 6,
   "metadata": {},
   "outputs": [],
   "source": [
    "#adding bias to feature vector\n",
    "bias = []\n",
    "for i in range(0,len(x_s_train)):\n",
    "    bias.insert(i,[1]) \n",
    "\n",
    "x_s_train = np.insert(x_s_train,[0],bias, axis=1)\n",
    "\n",
    "bias = []\n",
    "for i in range(0,len(x_test)):\n",
    "    bias.insert(i,[1]) \n",
    "\n",
    "x_test = np.insert(x_test,[0],bias, axis=1)"
   ]
  },
  {
   "cell_type": "code",
   "execution_count": 7,
   "metadata": {},
   "outputs": [
    {
     "data": {
      "image/png": "[encoded data removed]",
      "text/plain": [
       "<Figure size 432x288 with 1 Axes>"
      ]
     },
     "metadata": {
      "needs_background": "light"
     },
     "output_type": "display_data"
    },
    {
     "data": {
      "image/png": "[encoded data removed]",
      "text/plain": [
       "<Figure size 432x288 with 1 Axes>"
      ]
     },
     "metadata": {
      "needs_background": "light"
     },
     "output_type": "display_data"
    }
   ],
   "source": [
    "x_transpose = x_s_train.transpose()\n",
    "rate = 0.01\n",
    "#n1 = len(x_train)\n",
    "#n2 = len(x_test)\n",
    "theta  = []\n",
    "y_pred_train = []\n",
    "y_pred_test = []\n",
    "rmse_train = []\n",
    "rmse_test = []\n",
    "rmse = 1\n",
    "x =[]\n",
    "\n",
    "for i in range(0, X-1):\n",
    "    theta.append(np.random.uniform(-1,1))\n",
    "\n",
    "for i in range(0,1000):\n",
    "    \n",
    "    x.append(i)\n",
    "    prev_rmse = rmse\n",
    "    \n",
    "    for j in range(0, len(x_s_train)):\n",
    "        y_pred_train.insert(j,np.dot(x_s_train[j], theta))   \n",
    "    \n",
    "    sum = 0\n",
    "    for k in range(0, len(x_s_train)):\n",
    "        sum = sum + pow(y_train[k] - y_pred_train[k], 2)\n",
    "    \n",
    "    rmse = math.sqrt( sum / len(x_s_train))\n",
    "    rmse_train.append(rmse)\n",
    "    \n",
    "    for j in range(0, len(x_test)):\n",
    "        y_pred_test.insert(j, np.dot(x_test[j], theta))   \n",
    "    \n",
    "    sum = 0\n",
    "    for k in range(0, len(x_test)):\n",
    "        sum = sum + pow(y_test[k] - y_pred_test[k], 2)\n",
    "\n",
    "    rmse_test.append(math.sqrt(sum / len(x_test)))\n",
    "        \n",
    "    xty = np.subtract(np.dot(x_s_train, theta), y_train)\n",
    "    update = (rate / len(x_s_train)) * np.dot(x_transpose, xty)\n",
    "    theta = np.subtract(theta, update)\n",
    "    \n",
    "    percentage_change = (abs((rmse - prev_rmse) / prev_rmse)) * 100\n",
    "    \n",
    "    if percentage_change < pow(2,-23):\n",
    "        break\n",
    "plt.plot(x, rmse_test)\n",
    "plt.title('Iteration vs Testing Data')\n",
    "plt.xlabel('Iteration')\n",
    "plt.ylabel('RMSE')\n",
    "plt.show()\n",
    "\n",
    "plt.plot(x, rmse_train) \n",
    "plt.title('Iteration vs Training Data')\n",
    "plt.xlabel('Iteration')\n",
    "plt.ylabel('RMSE')\n",
    "plt.show()"
   ]
  },
  {
   "cell_type": "code",
   "execution_count": null,
   "metadata": {},
   "outputs": [],
   "source": []
  }
 ],
 "metadata": {
  "kernelspec": {
   "display_name": "Python 3",
   "language": "python",
   "name": "python3"
  },
  "language_info": {
   "codemirror_mode": {
    "name": "ipython",
    "version": 3
   },
   "file_extension": ".py",
   "mimetype": "text/x-python",
   "name": "python",
   "nbconvert_exporter": "python",
   "pygments_lexer": "ipython3",
   "version": "3.7.4"
  }
 },
 "nbformat": 4,
 "nbformat_minor": 2
}
