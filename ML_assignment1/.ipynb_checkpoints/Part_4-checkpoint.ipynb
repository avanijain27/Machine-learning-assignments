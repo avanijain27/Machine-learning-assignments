{
 "cells": [
  {
   "cell_type": "code",
   "execution_count": 1,
   "metadata": {},
   "outputs": [],
   "source": [
    "import pandas as pd  \n",
    "import numpy as np   \n",
    "from sklearn.model_selection import train_test_split \n",
    "import random\n",
    "import math"
   ]
  },
  {
   "cell_type": "code",
   "execution_count": 2,
   "metadata": {},
   "outputs": [],
   "source": [
    "dataset = pd.read_csv(\"/Users/avanijain/Documents/ML_assignment1/x06Simple.csv\", usecols = range(1,4))\n",
    "#data.shape\n",
    "#data.describe()\n",
    "\n",
    "X = dataset.iloc[:, 0:4].values"
   ]
  },
  {
   "cell_type": "code",
   "execution_count": 3,
   "metadata": {},
   "outputs": [],
   "source": [
    "#Randomizing the data and Selecting the first 2/3 (round up) of the data for training and the remaining for testing and randomize the data\n",
    "\n",
    "np.random.seed(0)\n",
    "np.random.shuffle(X)\n",
    "\n",
    "X_train_1, X_test_1 = train_test_split(X, test_size = 0.33, shuffle = False)\n",
    "\n",
    "X_train1 = X_train_1[:, 0:2]\n",
    "X_test1 = X_test_1[:, 0:2]\n",
    "Y_train1 = X_train_1[:, -1]\n",
    "Y_test1 = X_test_1[:, -1]"
   ]
  },
  {
   "cell_type": "code",
   "execution_count": 4,
   "metadata": {},
   "outputs": [],
   "source": [
    "#Standardizing and Biasing the Data\n",
    "\n",
    "X_S_train = (X_train1 - np.mean(X_train1)) / np.std(X_train1, ddof = 1)\n",
    "#print(X_S_train)\n",
    "X_test = (X_test1 - np.mean(X_train1)) / np.std(X_train1, ddof = 1)\n",
    "#print(X_test)\n",
    "\n",
    "num_rows, num_cols = X_S_train.shape\n",
    "b = np.ones((num_rows,1))\n",
    "X_S_train=np.hstack((b,X_S_train))\n",
    "num_row, num_col= X_test.shape\n",
    "b = np.ones((num_row,1))\n",
    "X_test=np.hstack((b,X_test))"
   ]
  },
  {
   "cell_type": "code",
   "execution_count": 5,
   "metadata": {},
   "outputs": [
    {
     "name": "stdout",
     "output_type": "stream",
     "text": [
      "406.0320408267996\n"
     ]
    }
   ],
   "source": [
    "#Computing the RMSE\n",
    "\n",
    "SquareError = []\n",
    "Matrix = []\n",
    "\n",
    "for i in range(0, len(X_test)):\n",
    "    for j in range(0, len(X_S_train)):\n",
    "        GaussianFunc = abs(X_S_train[j] - X_test[i])\n",
    "        Matrix.insert(j, math.exp(-1 * np.sum(GaussianFunc, axis = 0)))\n",
    "        j = j + 1\n",
    "    \n",
    "    W = np.diag(Matrix)\n",
    "    \n",
    "    X_train_transpose = X_S_train.transpose()\n",
    "    \n",
    "    M_Mul1 = np.dot(X_train_transpose, np.dot(W, X_S_train))\n",
    "    M_Mul2 = np.dot(X_train_transpose, np.dot(W, Y_train1))\n",
    "    M_Mul1_inv = np.linalg.inv(M_Mul1)\n",
    "    \n",
    "    Theta = np.dot(M_Mul1_inv, M_Mul2) \n",
    "    \n",
    "    Predict = np.dot(X_test[i], Theta)\n",
    "    \n",
    "    SquareError.insert(i, ((Y_test1[i] - Predict) ** 2))\n",
    "    \n",
    "    Matrix.clear()\n",
    "\n",
    "RMSE = math.sqrt(np.mean(SquareError))\n",
    "print(RMSE)"
   ]
  }
 ],
 "metadata": {
  "kernelspec": {
   "display_name": "Python 3",
   "language": "python",
   "name": "python3"
  },
  "language_info": {
   "codemirror_mode": {
    "name": "ipython",
    "version": 3
   },
   "file_extension": ".py",
   "mimetype": "text/x-python",
   "name": "python",
   "nbconvert_exporter": "python",
   "pygments_lexer": "ipython3",
   "version": "3.7.4"
  }
 },
 "nbformat": 4,
 "nbformat_minor": 2
}
