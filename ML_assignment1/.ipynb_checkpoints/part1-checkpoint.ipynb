{
 "cells": [
  {
   "cell_type": "code",
   "execution_count": 1,
   "metadata": {},
   "outputs": [],
   "source": [
    "import numpy as np\n",
    "from sklearn.linear_model import LinearRegression\n",
    "import matplotlib"
   ]
  },
  {
   "cell_type": "code",
   "execution_count": 2,
   "metadata": {},
   "outputs": [
    {
     "name": "stdout",
     "output_type": "stream",
     "text": [
      "[[-0.31008684]\n",
      " [-1.24034735]\n",
      " [-0.62017367]\n",
      " [ 0.31008684]\n",
      " [-1.55043418]\n",
      " [-0.31008684]\n",
      " [ 0.62017367]\n",
      " [ 1.86052102]\n",
      " [ 0.        ]\n",
      " [ 1.24034735]]\n"
     ]
    }
   ],
   "source": [
    "#part 1 A :-\n",
    "\n",
    "x1 = np.array([[-2],[-5],[-3],[0],[-6],[-2],[1],[5],[-1],[3]])\n",
    "y1 = np.array([[1],[-4],[1],[3],[11],[5],[0],[-1],[-3],[1]])\n",
    "\n",
    "std1 = np.mean(x1,axis=0)\n",
    "std2 = np.mean(y1,axis=0)\n",
    "std3 = np.std(x1,axis=0)\n",
    "std4 = np.std(y1,axis=0)\n",
    "\n",
    "s1 = np.subtract(x1,std1)\n",
    "\n",
    "d1 = np.true_divide(s1,std3)\n",
    "print(d1)"
   ]
  },
  {
   "cell_type": "code",
   "execution_count": 3,
   "metadata": {},
   "outputs": [
    {
     "name": "stdout",
     "output_type": "stream",
     "text": [
      "[[ 1.         -0.31008684]\n",
      " [ 1.         -1.24034735]\n",
      " [ 1.         -0.62017367]\n",
      " [ 1.          0.31008684]\n",
      " [ 1.         -1.55043418]\n",
      " [ 1.         -0.31008684]\n",
      " [ 1.          0.62017367]\n",
      " [ 1.          1.86052102]\n",
      " [ 1.          0.        ]\n",
      " [ 1.          1.24034735]]\n",
      "[[ 1.          1.          1.          1.          1.          1.\n",
      "   1.          1.          1.          1.        ]\n",
      " [-0.31008684 -1.24034735 -0.62017367  0.31008684 -1.55043418 -0.31008684\n",
      "   0.62017367  1.86052102  0.          1.24034735]]\n",
      "[[10.  0.]\n",
      " [ 0. 10.]]\n",
      "[[0.1 0. ]\n",
      " [0.  0.1]]\n",
      "[[ 14.        ]\n",
      " [-14.26399448]]\n",
      "[[ 1.4       ]\n",
      " [-1.42639945]]\n"
     ]
    }
   ],
   "source": [
    "xnew = np.insert(d1,[0],[[1],[1],[1],[1],[1],[1],[1],[1],[1],[1]], axis=1)\n",
    "\n",
    "print(xnew)\n",
    "\n",
    "xt = np.transpose(xnew)\n",
    "print(xt)\n",
    "x2 = np.dot(xt,xnew)\n",
    "print(x2)\n",
    "inv = np. linalg. inv(x2)\n",
    "print(inv)\n",
    "x3 = np.dot(xt,y1)\n",
    "print(x3)\n",
    "a = np.dot(inv,x3)\n",
    "\n",
    "print(a)"
   ]
  },
  {
   "cell_type": "code",
   "execution_count": 4,
   "metadata": {},
   "outputs": [
    {
     "name": "stdout",
     "output_type": "stream",
     "text": [
      "[1.4]\n",
      "[[-1.42639945]]\n"
     ]
    }
   ],
   "source": [
    "#Part 1 B :-\n",
    "\n",
    "x1 = (x1 - np.mean(x1)) / np.std(x1)\n",
    "\n",
    "reg = LinearRegression()\n",
    "reg.fit(x1,y1)\n",
    "\n",
    "print(reg.intercept_)\n",
    "print(reg.coef_)"
   ]
  },
  {
   "cell_type": "code",
   "execution_count": null,
   "metadata": {},
   "outputs": [],
   "source": []
  }
 ],
 "metadata": {
  "kernelspec": {
   "display_name": "Python 3",
   "language": "python",
   "name": "python3"
  },
  "language_info": {
   "codemirror_mode": {
    "name": "ipython",
    "version": 3
   },
   "file_extension": ".py",
   "mimetype": "text/x-python",
   "name": "python",
   "nbconvert_exporter": "python",
   "pygments_lexer": "ipython3",
   "version": "3.7.4"
  }
 },
 "nbformat": 4,
 "nbformat_minor": 2
}
