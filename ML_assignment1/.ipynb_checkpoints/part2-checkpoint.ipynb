{
 "cells": [
  {
   "cell_type": "code",
   "execution_count": 1,
   "metadata": {},
   "outputs": [],
   "source": [
    "import numpy as np\n",
    "import pandas as pd\n",
    "from sklearn.model_selection import train_test_split"
   ]
  },
  {
   "cell_type": "code",
   "execution_count": 2,
   "metadata": {},
   "outputs": [],
   "source": [
    "matrix = pd.read_csv(\"/Users/avanijain/Documents/ML_assignment1/x06Simple.csv\", usecols = range(1,4))\n",
    "\n",
    "X = matrix.iloc[:, 0:4].values"
   ]
  },
  {
   "cell_type": "code",
   "execution_count": 3,
   "metadata": {},
   "outputs": [],
   "source": [
    "#np.random.seed(0)\n",
    "\n",
    "#x1 = np.array(X[:,[0,1]])\n",
    "#y1 = np.array(X[:,2])\n",
    "\n",
    "#x1_train,x1_test,y1_train,y1_test = train_test_split(x1,y1,test_size=0.33, random_state = 0)\n",
    "\n",
    "x1_train,x1_test = train_test_split(X,test_size=0.33, random_state = 0)\n",
    "\n",
    "x_train = x1_train[:, 0:2]\n",
    "x_test = x1_test[:, 0:2]\n",
    "y_train = x1_train[:, -1]\n",
    "y_test = x1_test[:, -1]\n"
   ]
  },
  {
   "cell_type": "code",
   "execution_count": 4,
   "metadata": {},
   "outputs": [],
   "source": [
    "#x_train_std = (x1_train - np.mean(x1_train)) / np.std(x1_train, ddof=1)\n",
    "#x_test_std = (x1_test - np.mean(x1_train)) / np.std(x1_train, ddof=1)\n",
    "\n",
    "x_train_std = (x_train - np.mean(x_train)) / np.std(x_train, ddof=1)\n",
    "x_test_std = (x_test - np.mean(x_train)) / np.std(x_train, ddof=1)\n",
    "\n",
    "num_rows_train, num_cols_train = x_train_std.shape\n",
    "aug_train = np.ones((num_rows_train,1))\n",
    "aug_x_train = np.hstack((aug_train,x_train_std))\n",
    "\n",
    "num_rows_test, num_cols_test = x_test_std.shape\n",
    "aug_test = np.ones((num_rows_test,1))\n",
    "aug_x_test = np.hstack((aug_test,x_test_std))\n"
   ]
  },
  {
   "cell_type": "code",
   "execution_count": 5,
   "metadata": {},
   "outputs": [
    {
     "name": "stdout",
     "output_type": "stream",
     "text": [
      "[ -674.18443402  1086.26736095 -4812.15609237]\n"
     ]
    }
   ],
   "source": [
    "x_train_transpose = aug_x_train.transpose()\n",
    "\n",
    "z1 = np.dot(x_train_transpose, aug_x_train)\n",
    "z2 = np.linalg.inv(z1)\n",
    "z3 = np.dot(x_train_transpose, y_train)\n",
    "\n",
    "z4 = np.dot(z2,z3)\n",
    "\n",
    "#print(\"y= \"+z4[0]+\"x1 + \"+z4[1]+\"x2 \"+z4[2]+\"x3\" )\n",
    "\n",
    "print(z4)\n"
   ]
  },
  {
   "cell_type": "code",
   "execution_count": 6,
   "metadata": {},
   "outputs": [],
   "source": [
    "pre_Val = np.dot(aug_x_test, z4)"
   ]
  },
  {
   "cell_type": "code",
   "execution_count": 7,
   "metadata": {},
   "outputs": [
    {
     "data": {
      "text/plain": [
       "703.6080211313018"
      ]
     },
     "execution_count": 7,
     "metadata": {},
     "output_type": "execute_result"
    }
   ],
   "source": [
    "RMSE = np.sqrt(np.mean((y_test - pre_Val) ** 2))\n",
    "RMSE"
   ]
  },
  {
   "cell_type": "code",
   "execution_count": null,
   "metadata": {},
   "outputs": [],
   "source": []
  }
 ],
 "metadata": {
  "kernelspec": {
   "display_name": "Python 3",
   "language": "python",
   "name": "python3"
  },
  "language_info": {
   "codemirror_mode": {
    "name": "ipython",
    "version": 3
   },
   "file_extension": ".py",
   "mimetype": "text/x-python",
   "name": "python",
   "nbconvert_exporter": "python",
   "pygments_lexer": "ipython3",
   "version": "3.7.4"
  }
 },
 "nbformat": 4,
 "nbformat_minor": 2
}
