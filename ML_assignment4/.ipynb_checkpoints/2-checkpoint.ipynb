{
 "cells": [
  {
   "cell_type": "code",
   "execution_count": null,
   "metadata": {},
   "outputs": [],
   "source": [
    "# import cv2 \n",
    "# import numpy as np \n",
    "  \n",
    "# # Function to map each intensity level to output intensity level. \n",
    "# def pixelVal(pix, r1, s1, r2, s2): \n",
    "#     if (r1 < pix and pix <= r2): \n",
    "#         return ((s2 - s1)/(r2 - r1)) * (pix - r1) + s1 \n",
    "#     else: \n",
    "#         return ((255 - s2)/(255 - r2)) * (pix - r2) + s2 \n",
    "#     #((s2 - s1)/(r2 - r1)) * (pix - r1) + s1 \n",
    "  \n",
    "# # Open the image. \n",
    "# img = cv2.imread(\"/Users/avanijain/Documents/ML_assignment4/color1.jpg\") \n",
    "  \n",
    "# # Define parameters. \n",
    "# r1 = 0\n",
    "# s1 = 0\n",
    "# r2 = 180\n",
    "# s2 = 255\n",
    "  \n",
    "# # Vectorize the function to apply it to each value in the Numpy array. \n",
    "# pixelVal_vec = np.vectorize(pixelVal) \n",
    "  \n",
    "# # Apply contrast stretching. \n",
    "# contrast_stretched = pixelVal_vec(img, r1, s1, r2, s2) \n",
    "  \n",
    "# # Saving edited image. \n",
    "# cv2.imwrite('contrast_stretch.jpg', contrast_stretched)"
   ]
  },
  {
   "cell_type": "code",
   "execution_count": null,
   "metadata": {},
   "outputs": [],
   "source": [
    "import cv2\n",
    "import numpy as np\n",
    "\n",
    "# read image\n",
    "img = cv2.imread(\"/Users/avanijain/Documents/ML_assignment4/color1.jpg\", cv2.IMREAD_COLOR)\n",
    "\n",
    "# normalize float versions\n",
    "norm_img1 = cv2.normalize(img, None, alpha=0, beta=1, dtype=cv2.CV_32F)\n",
    "#norm_img2 = cv2.normalize(img, None, alpha=0, beta=1.2, dtype=cv2.CV_32F)\n",
    "\n",
    "# scale to uint8\n",
    "norm_img1 = (255*norm_img1).astype(np.uint8)\n",
    "#norm_img2 = np.clip(norm_img2, 0, 1)\n",
    "#norm_img2 = (255*norm_img2).astype(np.uint8)\n",
    "\n",
    "# write normalized output images\n",
    "cv2.imwrite(\"color1.jpg\",norm_img1)\n",
    "#cv2.imwrite(\"zelda1_bm20_cm20_normalize2.jpg\",norm_img2)\n",
    "\n",
    "# display input and both output images\n",
    "cv2.imshow('original',img)\n",
    "cv2.imshow('normalized1',norm_img1)\n",
    "#cv2.imshow('normalized2',norm_img2)\n",
    "cv2.waitKey(0)\n",
    "cv2.destroyAllWindows()"
   ]
  },
  {
   "cell_type": "code",
   "execution_count": null,
   "metadata": {},
   "outputs": [],
   "source": []
  }
 ],
 "metadata": {
  "kernelspec": {
   "display_name": "Python 3",
   "language": "python",
   "name": "python3"
  },
  "language_info": {
   "codemirror_mode": {
    "name": "ipython",
    "version": 3
   },
   "file_extension": ".py",
   "mimetype": "text/x-python",
   "name": "python",
   "nbconvert_exporter": "python",
   "pygments_lexer": "ipython3",
   "version": "3.7.4"
  }
 },
 "nbformat": 4,
 "nbformat_minor": 2
}
