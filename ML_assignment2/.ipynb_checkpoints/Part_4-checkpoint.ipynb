{
 "cells": [
  {
   "cell_type": "code",
   "execution_count": 1,
   "metadata": {},
   "outputs": [],
   "source": [
    "import pandas as pd  \n",
    "import numpy as np   \n",
    "import random\n",
    "from sklearn.model_selection import train_test_split \n",
    "from collections import Counter"
   ]
  },
  {
   "cell_type": "code",
   "execution_count": 2,
   "metadata": {},
   "outputs": [],
   "source": [
    "#Reading the data\n",
    "matrix = pd.read_csv(\"/Users/avanijain/Documents/ML_assignment2/spambase.data\")\n",
    "Data = matrix.iloc[:,:].values\n",
    "#print(Data)"
   ]
  },
  {
   "cell_type": "code",
   "execution_count": 3,
   "metadata": {},
   "outputs": [],
   "source": [
    "#Randomizing the data \n",
    "#Selecting the first 2/3 (round up) of the data for training and the remaining for testing and randomize the data\n",
    "\n",
    "np.random.seed(0)\n",
    "np.random.shuffle(Data)\n",
    "\n",
    "x = Data[:, :-1]\n",
    "y = Data[:, -1]\n",
    "\n",
    "X_train_1, X_test_1,Y_train_1, Y_test_1 = train_test_split(x,y, test_size = 1/3)\n",
    "\n",
    "X_train_1 = X_train_1.astype(np.int64)\n",
    "X_test_1 = X_test_1.astype(np.int64)\n",
    "Y_train_1 = Y_train_1.astype(np.int64)\n",
    "Y_test_1 = Y_test_1.astype(np.int64)\n",
    "\n",
    "#print(X_train_1)\n",
    "#print(X_test_1)\n",
    "#print(Y_train_1)\n",
    "#print(Y_test_1)"
   ]
  },
  {
   "cell_type": "code",
   "execution_count": 4,
   "metadata": {},
   "outputs": [],
   "source": [
    "X_S_train = (X_train_1 - np.mean(X_train_1)) / np.std(X_train_1, ddof = 1)\n",
    "#print(X_S_train)\n",
    "X_test = (X_test_1 - np.mean(X_train_1)) / np.std(X_train_1, ddof = 1)\n",
    "#print(X_test)\n",
    "\n",
    "N_row, N_col = X_test.shape\n",
    "#print(N_row, N_col)"
   ]
  },
  {
   "cell_type": "code",
   "execution_count": 5,
   "metadata": {},
   "outputs": [],
   "source": [
    "#Calculating Mean and Variance\n",
    "\n",
    "Feature = X_S_train.shape[1]\n",
    "M = np.ones((2, Feature))\n",
    "V = np.ones((2, Feature))\n",
    "N_Zero = np.bincount(Y_train_1)[np.nonzero(np.bincount(Y_train_1))[0]][0]   \n",
    "X_0 = np.ones((N_Zero, Feature))\n",
    "X_1 = np.ones((X_S_train.shape[0] - N_Zero, Feature))\n",
    "\n",
    "s = 0\n",
    "for i in range(0, X_S_train.shape[0]):\n",
    "    if Y_train_1[i] == 0:\n",
    "        X_0[s] = X_S_train[i]\n",
    "        s = s + 1\n",
    "        \n",
    "s = 0\n",
    "for i in range(0, X_S_train.shape[0]):\n",
    "    if Y_train_1[i] == 1:\n",
    "        X_1[s] = X_S_train[i]\n",
    "        s = s + 1\n",
    "\n",
    "for i in range(0, Feature):\n",
    "    M[0][i] = np.mean(X_0.T[i])\n",
    "    V[0][i] = np.var(X_0.T[i]) * (N_Zero / (N_Zero - 1))\n",
    "    M[1][i] = np.mean(X_1.T[i])\n",
    "    V[1][i] = np.var(X_1.T[i]) * ((X_S_train.shape[0] - N_Zero)/((X_S_train.shape[0] - N_Zero) - 1))\n",
    "#print(M)\n",
    "#print(V)"
   ]
  },
  {
   "cell_type": "code",
   "execution_count": 6,
   "metadata": {},
   "outputs": [],
   "source": [
    "#Calculating Posterior Probablity\n",
    "\n",
    "Feature = M.shape[1]\n",
    "P_Prob_0 = np.ones([N_row,Feature],dtype=float)\n",
    "P_Prob_1 = np.ones([N_row,Feature],dtype=float)\n",
    "for i in range(0, N_row):\n",
    "    for j in range(0, Feature):\n",
    "        P_Prob_0[i][j]=(1 / np.sqrt(2 * 3.14 * V[0][j])) * np.exp(- 0.5 * pow((X_test[i][j] - M[0][j]), 2) / V[0][j])\n",
    "        P_Prob_1[i][j]=(1 / np.sqrt(2 * 3.14 * V[1][j])) * np.exp(- 0.5 * pow((X_test[i][j] - M[1][j]), 2) / V[1][j])\n",
    "#print(P_Prob_0)\n",
    "#print(P_Prob_1)"
   ]
  },
  {
   "cell_type": "code",
   "execution_count": 7,
   "metadata": {},
   "outputs": [],
   "source": [
    "#Calculating Denominator of Conditional Probablity\n",
    "\n",
    "C_Prob_0 = []\n",
    "C_Prob_1 = []\n",
    "for i in range(0, N_row):\n",
    "    P_0 = 1\n",
    "    P_1 = 1\n",
    "    for j in range(0, Feature):\n",
    "        P_0 *= P_Prob_0[i][j]\n",
    "        P_1 *= P_Prob_1[i][j]\n",
    "    C_Prob_0.append(P_0)\n",
    "    C_Prob_1.append(P_1)\n",
    "\n",
    "#print(Cond_Prob_0)\n",
    "#print(Cond_Prob_1)\n",
    "\n",
    "C_Prob_Deno_0 = 0\n",
    "C_Prob_Deno_1 = 0\n",
    "\n",
    "C_Prob_Deno_0 = np.sum(C_Prob_0)\n",
    "#print(C_Prob_Deno_0)\n",
    "\n",
    "C_Prob_Deno_1 = np.sum(C_Prob_1)\n",
    "#print(C_Prob_Deno_1)\n",
    "\n",
    "Y_dict = Counter(y)\n",
    "#print(Y_dict)\n",
    "C_Prob_Numerator = np.ones(2)\n",
    "for i in range(0, 2):\n",
    "    C_Prob_Numerator[i] = Y_dict[i] / y.shape[0]\n",
    "#print(C_Prob_Numerator)"
   ]
  },
  {
   "cell_type": "code",
   "execution_count": 8,
   "metadata": {},
   "outputs": [],
   "source": [
    "#Calculating Conditional Probablity\n",
    "\n",
    "C_Prob = []\n",
    "for i in range(N_row):\n",
    "    C_P_0 = (C_Prob_0[i] * C_Prob_Numerator[0]) / C_Prob_Deno_0 \n",
    "    #print(C_P_0)\n",
    "    C_P_1 = (C_Prob_1[i] * C_Prob_Numerator[1]) / C_Prob_Deno_1 \n",
    "    #print(C_P_1)\n",
    "    if(C_P_1 > C_P_0):\n",
    "        C_Prob.append(1) \n",
    "    else:\n",
    "        C_Prob.append(0)\n",
    "#print(C_Prob)"
   ]
  },
  {
   "cell_type": "code",
   "execution_count": 12,
   "metadata": {},
   "outputs": [
    {
     "name": "stdout",
     "output_type": "stream",
     "text": [
      "Accuracy:- 84.6805736636245\n",
      "Precision:- 0.8699453551912568\n",
      "Recall:- 0.8728070175438597\n",
      "fmeasure:- 0.8713738368910784\n"
     ]
    }
   ],
   "source": [
    "#Accuracy\n",
    "\n",
    "count = 0\n",
    "for i in range (len(C_Prob)):\n",
    "    if(C_Prob[i] == Y_test_1[i]):\n",
    "        count += 1\n",
    "        \n",
    "Accuracy = (1 / len(C_Prob)) * count * 100\n",
    "print(\"Accuracy:-\", Accuracy)\n",
    "\n",
    "#Precision\n",
    "\n",
    "true_p = 0\n",
    "false_n = 0\n",
    "false_p = 0\n",
    "true_n = 0\n",
    "for i in range (len(C_Prob)):\n",
    "    \n",
    "    if(Y_test_1[i] == 0 and C_Prob[i] == 0):\n",
    "        true_p = true_p + 1\n",
    "        \n",
    "    elif(Y_test_1[i] == 0 and C_Prob[i] == 1):\n",
    "        false_n = false_n + 1\n",
    "        \n",
    "    elif(Y_test_1[i] == 1 and C_Prob[i] == 0):\n",
    "        false_p = false_p + 1\n",
    "        \n",
    "    else:\n",
    "        true_n = true_n + 1\n",
    "\n",
    "precision = true_p/(true_p+false_p)\n",
    "\n",
    "recall =  true_p/(true_p+false_n)\n",
    "\n",
    "fmeasure = 2*precision*recall/(precision + recall)\n",
    "\n",
    "print(\"Precision:-\",precision)\n",
    "print(\"Recall:-\",recall)\n",
    "print(\"fmeasure:-\", fmeasure)"
   ]
  },
  {
   "cell_type": "code",
   "execution_count": null,
   "metadata": {},
   "outputs": [],
   "source": []
  }
 ],
 "metadata": {
  "kernelspec": {
   "display_name": "Python 3",
   "language": "python",
   "name": "python3"
  },
  "language_info": {
   "codemirror_mode": {
    "name": "ipython",
    "version": 3
   },
   "file_extension": ".py",
   "mimetype": "text/x-python",
   "name": "python",
   "nbconvert_exporter": "python",
   "pygments_lexer": "ipython3",
   "version": "3.7.4"
  }
 },
 "nbformat": 4,
 "nbformat_minor": 2
}
