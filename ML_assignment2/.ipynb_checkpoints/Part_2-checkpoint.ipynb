{
 "cells": [
  {
   "cell_type": "code",
   "execution_count": 1,
   "metadata": {},
   "outputs": [],
   "source": [
    "import numpy as np\n",
    "import pandas as pd\n",
    "import matplotlib.pyplot as plt "
   ]
  },
  {
   "cell_type": "code",
   "execution_count": 2,
   "metadata": {},
   "outputs": [],
   "source": [
    "from sklearn . datasets import load_iris \n",
    "iris = load_iris()"
   ]
  },
  {
   "cell_type": "code",
   "execution_count": 3,
   "metadata": {},
   "outputs": [],
   "source": [
    "X= iris.data[:, :2]\n",
    "y = (iris.target != 0) * 1"
   ]
  },
  {
   "cell_type": "code",
   "execution_count": 4,
   "metadata": {},
   "outputs": [],
   "source": [
    "#standardizing the dataset\n",
    "mean = np.mean(X, axis=0)\n",
    "standard = np.std(X, axis =0, ddof=1)\n",
    "X = (X-mean)/standard\n",
    "print(X)\n",
    "#x1 = np.array(x)"
   ]
  },
  {
   "cell_type": "code",
   "execution_count": 5,
   "metadata": {},
   "outputs": [
    {
     "name": "stdout",
     "output_type": "stream",
     "text": [
      "[[ 1.         -0.89767388  1.01560199]\n",
      " [ 1.         -1.13920048 -0.13153881]\n",
      " [ 1.         -1.38072709  0.32731751]\n",
      " [ 1.         -1.50149039  0.09788935]\n",
      " [ 1.         -1.01843718  1.24503015]\n",
      " [ 1.         -0.53538397  1.93331463]\n",
      " [ 1.         -1.50149039  0.78617383]\n",
      " [ 1.         -1.01843718  0.78617383]\n",
      " [ 1.         -1.74301699 -0.36096697]\n",
      " [ 1.         -1.13920048  0.09788935]\n",
      " [ 1.         -0.53538397  1.47445831]\n",
      " [ 1.         -1.25996379  0.78617383]\n",
      " [ 1.         -1.25996379 -0.13153881]\n",
      " [ 1.         -1.8637803  -0.13153881]\n",
      " [ 1.         -0.05233076  2.16274279]\n",
      " [ 1.         -0.17309407  3.08045544]\n",
      " [ 1.         -0.53538397  1.93331463]\n",
      " [ 1.         -0.89767388  1.01560199]\n",
      " [ 1.         -0.17309407  1.70388647]\n",
      " [ 1.         -0.89767388  1.70388647]\n",
      " [ 1.         -0.53538397  0.78617383]\n",
      " [ 1.         -0.89767388  1.47445831]\n",
      " [ 1.         -1.50149039  1.24503015]\n",
      " [ 1.         -0.89767388  0.55674567]\n",
      " [ 1.         -1.25996379  0.78617383]\n",
      " [ 1.         -1.01843718 -0.13153881]\n",
      " [ 1.         -1.01843718  0.78617383]\n",
      " [ 1.         -0.77691058  1.01560199]\n",
      " [ 1.         -0.77691058  0.78617383]\n",
      " [ 1.         -1.38072709  0.32731751]\n",
      " [ 1.         -1.25996379  0.09788935]\n",
      " [ 1.         -0.53538397  0.78617383]\n",
      " [ 1.         -0.77691058  2.39217095]\n",
      " [ 1.         -0.41462067  2.62159911]\n",
      " [ 1.         -1.13920048  0.09788935]\n",
      " [ 1.         -1.01843718  0.32731751]\n",
      " [ 1.         -0.41462067  1.01560199]\n",
      " [ 1.         -1.13920048  1.24503015]\n",
      " [ 1.         -1.74301699 -0.13153881]\n",
      " [ 1.         -0.89767388  0.78617383]\n",
      " [ 1.         -1.01843718  1.01560199]\n",
      " [ 1.         -1.62225369 -1.73753594]\n",
      " [ 1.         -1.74301699  0.32731751]\n",
      " [ 1.         -1.01843718  1.01560199]\n",
      " [ 1.         -0.89767388  1.70388647]\n",
      " [ 1.         -1.25996379 -0.13153881]\n",
      " [ 1.         -0.89767388  1.70388647]\n",
      " [ 1.         -1.50149039  0.32731751]\n",
      " [ 1.         -0.65614727  1.47445831]\n",
      " [ 1.         -1.01843718  0.55674567]\n",
      " [ 1.          1.39682886  0.32731751]\n",
      " [ 1.          0.67224905  0.32731751]\n",
      " [ 1.          1.27606556  0.09788935]\n",
      " [ 1.         -0.41462067 -1.73753594]\n",
      " [ 1.          0.79301235 -0.59039513]\n",
      " [ 1.         -0.17309407 -0.59039513]\n",
      " [ 1.          0.55148575  0.55674567]\n",
      " [ 1.         -1.13920048 -1.50810778]\n",
      " [ 1.          0.91377565 -0.36096697]\n",
      " [ 1.         -0.77691058 -0.81982329]\n",
      " [ 1.         -1.01843718 -2.42582042]\n",
      " [ 1.          0.06843254 -0.13153881]\n",
      " [ 1.          0.18919584 -1.9669641 ]\n",
      " [ 1.          0.30995914 -0.36096697]\n",
      " [ 1.         -0.29385737 -0.36096697]\n",
      " [ 1.          1.03453895  0.09788935]\n",
      " [ 1.         -0.29385737 -0.13153881]\n",
      " [ 1.         -0.05233076 -0.81982329]\n",
      " [ 1.          0.43072244 -1.9669641 ]\n",
      " [ 1.         -0.29385737 -1.27867961]\n",
      " [ 1.          0.06843254  0.32731751]\n",
      " [ 1.          0.30995914 -0.59039513]\n",
      " [ 1.          0.55148575 -1.27867961]\n",
      " [ 1.          0.30995914 -0.59039513]\n",
      " [ 1.          0.67224905 -0.36096697]\n",
      " [ 1.          0.91377565 -0.13153881]\n",
      " [ 1.          1.15530226 -0.59039513]\n",
      " [ 1.          1.03453895 -0.13153881]\n",
      " [ 1.          0.18919584 -0.36096697]\n",
      " [ 1.         -0.17309407 -1.04925145]\n",
      " [ 1.         -0.41462067 -1.50810778]\n",
      " [ 1.         -0.41462067 -1.50810778]\n",
      " [ 1.         -0.05233076 -0.81982329]\n",
      " [ 1.          0.18919584 -0.81982329]\n",
      " [ 1.         -0.53538397 -0.13153881]\n",
      " [ 1.          0.18919584  0.78617383]\n",
      " [ 1.          1.03453895  0.09788935]\n",
      " [ 1.          0.55148575 -1.73753594]\n",
      " [ 1.         -0.29385737 -0.13153881]\n",
      " [ 1.         -0.41462067 -1.27867961]\n",
      " [ 1.         -0.41462067 -1.04925145]\n",
      " [ 1.          0.30995914 -0.13153881]\n",
      " [ 1.         -0.05233076 -1.04925145]\n",
      " [ 1.         -1.01843718 -1.73753594]\n",
      " [ 1.         -0.29385737 -0.81982329]\n",
      " [ 1.         -0.17309407 -0.13153881]\n",
      " [ 1.         -0.17309407 -0.36096697]\n",
      " [ 1.          0.43072244 -0.36096697]\n",
      " [ 1.         -0.89767388 -1.27867961]\n",
      " [ 1.         -0.17309407 -0.59039513]\n",
      " [ 1.          0.55148575  0.55674567]\n",
      " [ 1.         -0.05233076 -0.81982329]\n",
      " [ 1.          1.51759216 -0.13153881]\n",
      " [ 1.          0.55148575 -0.36096697]\n",
      " [ 1.          0.79301235 -0.13153881]\n",
      " [ 1.          2.12140867 -0.13153881]\n",
      " [ 1.         -1.13920048 -1.27867961]\n",
      " [ 1.          1.75911877 -0.36096697]\n",
      " [ 1.          1.03453895 -1.27867961]\n",
      " [ 1.          1.63835547  1.24503015]\n",
      " [ 1.          0.79301235  0.32731751]\n",
      " [ 1.          0.67224905 -0.81982329]\n",
      " [ 1.          1.15530226 -0.13153881]\n",
      " [ 1.         -0.17309407 -1.27867961]\n",
      " [ 1.         -0.05233076 -0.59039513]\n",
      " [ 1.          0.67224905  0.32731751]\n",
      " [ 1.          0.79301235 -0.13153881]\n",
      " [ 1.          2.24217198  1.70388647]\n",
      " [ 1.          2.24217198 -1.04925145]\n",
      " [ 1.          0.18919584 -1.9669641 ]\n",
      " [ 1.          1.27606556  0.32731751]\n",
      " [ 1.         -0.29385737 -0.59039513]\n",
      " [ 1.          2.24217198 -0.59039513]\n",
      " [ 1.          0.55148575 -0.81982329]\n",
      " [ 1.          1.03453895  0.55674567]\n",
      " [ 1.          1.63835547  0.32731751]\n",
      " [ 1.          0.43072244 -0.59039513]\n",
      " [ 1.          0.30995914 -0.13153881]\n",
      " [ 1.          0.67224905 -0.59039513]\n",
      " [ 1.          1.63835547 -0.13153881]\n",
      " [ 1.          1.87988207 -0.59039513]\n",
      " [ 1.          2.48369858  1.70388647]\n",
      " [ 1.          0.67224905 -0.59039513]\n",
      " [ 1.          0.55148575 -0.59039513]\n",
      " [ 1.          0.30995914 -1.04925145]\n",
      " [ 1.          2.24217198 -0.13153881]\n",
      " [ 1.          0.55148575  0.78617383]\n",
      " [ 1.          0.67224905  0.09788935]\n",
      " [ 1.          0.18919584 -0.13153881]\n",
      " [ 1.          1.27606556  0.09788935]\n",
      " [ 1.          1.03453895  0.09788935]\n",
      " [ 1.          1.27606556  0.09788935]\n",
      " [ 1.         -0.05233076 -0.81982329]\n",
      " [ 1.          1.15530226  0.32731751]\n",
      " [ 1.          1.03453895  0.55674567]\n",
      " [ 1.          1.03453895 -0.13153881]\n",
      " [ 1.          0.55148575 -1.27867961]\n",
      " [ 1.          0.79301235 -0.13153881]\n",
      " [ 1.          0.43072244  0.78617383]\n",
      " [ 1.          0.06843254 -0.13153881]]\n"
     ]
    }
   ],
   "source": [
    "z=np.ones((X.shape[0],1))\n",
    "s_X=np.hstack((z,X))\n",
    "print(s_X)"
   ]
  },
  {
   "cell_type": "code",
   "execution_count": 6,
   "metadata": {},
   "outputs": [],
   "source": [
    "def GradientD(X,y,l_rate=0.01,Max_iterations=10000):\n",
    "    rmse=[]\n",
    "    sum_loss=0\n",
    "    sigma=[]\n",
    "    num = X.shape[0]\n",
    "    pop_ = np.random.uniform(-1,1,X.shape[1])\n",
    "    for i in range(Max_iterations):\n",
    "\n",
    "        pop_last= pop_\n",
    "        pred_last = np.dot(X,pop_)\n",
    "        rmse_last = np.sqrt(((y - pred_last)**2).mean())\n",
    "        pop_ = pop_ - (l_rate/num)*np.dot(X.T,((np.dot(X,pop_)-y)))\n",
    "        pred_new = np.dot(X,pop_)\n",
    "        sigmoid=1/(1+np.exp(-(pred_new)))\n",
    "        sigma.append(sigmoid)\n",
    "        rmse_new = np.sqrt(((y - pred_new)**2).mean())\n",
    "        sub = rmse_last - rmse_new\n",
    "        per = (np.abs(sub)/rmse_last)\n",
    "        rmse.append(rmse_new)\n",
    "        loss=np.dot(-y,np.log(sigmoid))-np.dot((1-y),np.log(1-sigmoid))\n",
    "        #loss = (1/len(y))*loss\n",
    "        if loss < 2**(-23):\n",
    "            return pop_,loss,i+1,rmse,sigma\n",
    "            print('MAX')\n",
    "            \n",
    "    return pop_,loss,i+1,rmse,sigma\n",
    "\n",
    "POP,loss,itr,rmse,sigma= GradientD(s_X,y,l_rate=0.01,Max_iterations=10000)"
   ]
  },
  {
   "cell_type": "code",
   "execution_count": 7,
   "metadata": {},
   "outputs": [
    {
     "name": "stdout",
     "output_type": "stream",
     "text": [
      "coef =  [ 0.66666667  0.3100605  -0.24891998]\n",
      "loss=  72.17554640556519\n"
     ]
    }
   ],
   "source": [
    "print('coef = ', POP)\n",
    "print('loss= ',loss)"
   ]
  },
  {
   "cell_type": "code",
   "execution_count": 8,
   "metadata": {},
   "outputs": [],
   "source": [
    "pred_y=[]\n",
    "for i in range (len(sigma[0])):\n",
    "    if(sigma[0][i]<0.5):\n",
    "        pred_y.append(0)\n",
    "    else:\n",
    "        pred_y.append(1)"
   ]
  },
  {
   "cell_type": "code",
   "execution_count": 9,
   "metadata": {},
   "outputs": [
    {
     "data": {
      "image/png": "[encoded data removed]",
      "text/plain": [
       "<Figure size 432x288 with 1 Axes>"
      ]
     },
     "metadata": {
      "needs_background": "light"
     },
     "output_type": "display_data"
    }
   ],
   "source": [
    "figure_ = plt.figure()\n",
    "x1=list(range(itr))\n",
    "plt.plot(x1,rmse);\n",
    "plt.show()"
   ]
  },
  {
   "cell_type": "code",
   "execution_count": 10,
   "metadata": {},
   "outputs": [
    {
     "data": {
      "text/plain": [
       "LogisticRegression(C=1.0, class_weight=None, dual=False, fit_intercept=True,\n",
       "                   intercept_scaling=1, l1_ratio=None, max_iter=10000,\n",
       "                   multi_class='warn', n_jobs=None, penalty='none',\n",
       "                   random_state=None, solver='lbfgs', tol=0.0001, verbose=0,\n",
       "                   warm_start=False)"
      ]
     },
     "execution_count": 10,
     "metadata": {},
     "output_type": "execute_result"
    }
   ],
   "source": [
    "from sklearn.linear_model import LogisticRegression\n",
    "logistic_reg = LogisticRegression(penalty='none',solver='lbfgs',max_iter=10000) \n",
    "logistic_reg.fit (X,y)"
   ]
  },
  {
   "cell_type": "code",
   "execution_count": 11,
   "metadata": {},
   "outputs": [
    {
     "name": "stdout",
     "output_type": "stream",
     "text": [
      "[[ 69.73722961 -30.90205269]]\n",
      "[49.26318048]\n"
     ]
    }
   ],
   "source": [
    "print(logistic_reg.coef_)\n",
    "print(logistic_reg.intercept_)"
   ]
  },
  {
   "cell_type": "code",
   "execution_count": 12,
   "metadata": {},
   "outputs": [
    {
     "data": {
      "text/plain": [
       "array([0, 0, 0, 0, 0, 0, 0, 0, 0, 0, 0, 0, 0, 0, 0, 0, 0, 0, 0, 0, 0, 0,\n",
       "       0, 0, 0, 0, 0, 0, 0, 0, 0, 0, 0, 0, 0, 0, 0, 0, 0, 0, 0, 0, 0, 0,\n",
       "       0, 0, 0, 0, 0, 0, 1, 1, 1, 1, 1, 1, 1, 1, 1, 1, 1, 1, 1, 1, 1, 1,\n",
       "       1, 1, 1, 1, 1, 1, 1, 1, 1, 1, 1, 1, 1, 1, 1, 1, 1, 1, 1, 1, 1, 1,\n",
       "       1, 1, 1, 1, 1, 1, 1, 1, 1, 1, 1, 1, 1, 1, 1, 1, 1, 1, 1, 1, 1, 1,\n",
       "       1, 1, 1, 1, 1, 1, 1, 1, 1, 1, 1, 1, 1, 1, 1, 1, 1, 1, 1, 1, 1, 1,\n",
       "       1, 1, 1, 1, 1, 1, 1, 1, 1, 1, 1, 1, 1, 1, 1, 1, 1, 1])"
      ]
     },
     "execution_count": 12,
     "metadata": {},
     "output_type": "execute_result"
    }
   ],
   "source": [
    "pred_y=logistic_reg.predict(X)\n",
    "pred_y"
   ]
  },
  {
   "cell_type": "code",
   "execution_count": 13,
   "metadata": {},
   "outputs": [
    {
     "data": {
      "image/png": "[encoded data removed]",
      "text/plain": [
       "<Figure size 720x432 with 1 Axes>"
      ]
     },
     "metadata": {
      "needs_background": "light"
     },
     "output_type": "display_data"
    }
   ],
   "source": [
    "'''#visualising the test set results\n",
    "from matplotlib.colors import ListedColormap\n",
    "x_axis,y_axis=X,y\n",
    "X1, X2 = np.meshgrid(np.arange(start=x_axis[:, 0].min()-1, stop=x_axis[:, 0].max()+1, step =0.01),\n",
    "                     np.arange(start=x_axis[:, 1].min()-1, stop=x_axis[:, 1].max()+1, step =0.01))\n",
    "plt.contourf(X1,X2, logistic_reg.predict(np.array([X1.ravel(),X2.ravel()]).T).reshape(X1.shape),\n",
    "             alpha=0.75,cmap=ListedColormap(('red', 'green')))\n",
    "\n",
    "plt.xlim(X1.min(), X1.max())\n",
    "plt.xlim(X2.min(), X2.max())\n",
    "for i,j in enumerate(np.unique(y_axis)):\n",
    "    plt.scatter(x_axis[y_axis==j, 0],x_axis[y_axis==j, 1], \n",
    "                c=ListedColormap(('red', 'green'))(i),label=j)\n",
    "plt.title('Logistic Regression')\n",
    "plt.xlabel('Width')\n",
    "plt.ylabel('Length')\n",
    "plt.legend()\n",
    "plt.show()'''\n",
    "'''plt.scatter(x[:, 1], x[:, -1], c = \"r\", marker = \"*\")\n",
    "x_values = [np.min(x[:, 0] - 5), np.max(x[:, 1] + 5)]\n",
    "y_values = - (POP[0] + np.dot(POP[1], x_values)) / POP[2]\n",
    "\n",
    "plt.plot(x_values, y_values, label='Decision Boundary')\n",
    "plt.xlabel('Marks in 1st Exam')\n",
    "plt.ylabel('Marks in 2nd Exam')\n",
    "plt.legend()\n",
    "plt.show()'''\n",
    "\n",
    "plt.figure(figsize=(10,6))\n",
    "plt.scatter(X[y == 0][:,0],X[y == 0][:,1], color='b', label='0')\n",
    "plt.scatter(X[y == 1][:,0],X[y == 1][:,1], color='r', label='1')\n",
    "plt.legend()\n",
    "y1=(69/49)*(-2) + (49.2/30.9);\n",
    "y2=(69/49)*(2) + (49.2/30.9);\n",
    "plt.plot([-2,2],[y1,y2])\n",
    "plt.show()"
   ]
  },
  {
   "cell_type": "code",
   "execution_count": 20,
   "metadata": {},
   "outputs": [
    {
     "data": {
      "image/png": "[encoded data removed]",
      "text/plain": [
       "<Figure size 1440x864 with 1 Axes>"
      ]
     },
     "metadata": {
      "needs_background": "light"
     },
     "output_type": "display_data"
    }
   ],
   "source": [
    "    x_0 = X[np.where(y == 0.0)] \n",
    "    x_1 = X[np.where(y == 1.0)] \n",
    "    plt.figure(figsize=(20,12)) \n",
    "    # plotting points with diff color for diff label \n",
    "    plt.scatter([x_0[:, 0]], [x_0[:, -1]], c='b', label='y = 0') \n",
    "    plt.scatter([x_1[:, 0]], [x_1[:, -1]], c='r', label='y = 1') \n",
    "    \n",
    "    # plotting decision boundary \n",
    "    x1 = [np.min(X[:, 0] - 5), np.max(X[:, 1] + 5)]\n",
    "    x2 = -(0.3 + np.dot(POP[1], x1)) / POP[2]\n",
    "    plt.plot(x1, x2, c='k', label='reg line') \n",
    "   \n",
    "    plt.xlabel('x1') \n",
    "    plt.ylabel('x2') \n",
    "    plt.legend() \n",
    "    plt.show()\n",
    "\n",
    "    "
   ]
  },
  {
   "cell_type": "code",
   "execution_count": null,
   "metadata": {},
   "outputs": [],
   "source": []
  }
 ],
 "metadata": {
  "kernelspec": {
   "display_name": "Python 3",
   "language": "python",
   "name": "python3"
  },
  "language_info": {
   "codemirror_mode": {
    "name": "ipython",
    "version": 3
   },
   "file_extension": ".py",
   "mimetype": "text/x-python",
   "name": "python",
   "nbconvert_exporter": "python",
   "pygments_lexer": "ipython3",
   "version": "3.7.4"
  }
 },
 "nbformat": 4,
 "nbformat_minor": 2
}
