{
 "cells": [
  {
   "cell_type": "code",
   "execution_count": 1,
   "metadata": {},
   "outputs": [],
   "source": [
    "import pandas as pd  \n",
    "import numpy as np \n",
    "from sklearn.model_selection import train_test_split\n",
    "import random\n",
    "import math"
   ]
  },
  {
   "cell_type": "code",
   "execution_count": 2,
   "metadata": {},
   "outputs": [],
   "source": [
    "#Reading the data\n",
    "matrix = pd.read_csv(\"/Users/avanijain/Documents/ML_assignment2/spambase.data\")\n",
    "Data = matrix.iloc[:,:].values\n",
    "#print(Data)"
   ]
  },
  {
   "cell_type": "code",
   "execution_count": 3,
   "metadata": {},
   "outputs": [],
   "source": [
    "#Shuffling the data\n",
    "n = len(matrix.iloc[0,:].values)\n",
    "np.random.seed(0)\n",
    "np.random.shuffle(Data)\n",
    "X = Data[:,:n-2]\n",
    "Y = Data[:,-1]\n",
    "\n",
    "x_train,x_test,y_train,y_test=train_test_split(X,Y,test_size=1/3)"
   ]
  },
  {
   "cell_type": "code",
   "execution_count": 4,
   "metadata": {},
   "outputs": [],
   "source": [
    "s_1 = np.mean(x_train,axis=0)\n",
    "s_3 = np.std(x_train,axis=0)\n",
    "\n",
    "z1 = np.subtract(x_train,s_1)\n",
    "z2 = np.subtract(x_test,s_1)\n",
    "\n",
    "x_train_s = np.true_divide(z1,s_3)\n",
    "x_test_s = np.true_divide(z2,s_3)\n",
    "\n",
    "l_train = len(x_train_s)\n",
    "l_test = len(x_test_s)\n",
    "\n",
    "o_e = np.ones((l_train,1))\n",
    "o_et = np.ones((l_test,1))\n",
    "\n",
    "x_new = np.append(o_e,x_train_s,axis=1)\n",
    "x_test_new = np.append(o_et,x_test_s,axis=1)\n"
   ]
  },
  {
   "cell_type": "code",
   "execution_count": 10,
   "metadata": {},
   "outputs": [
    {
     "name": "stdout",
     "output_type": "stream",
     "text": [
      "Accuracy:- 79.07431551499347\n",
      "Precision:- 0.6582125603864735\n",
      "Recall:- 0.934819897084048\n",
      "fmeasure:- 0.7725017717930546\n"
     ]
    }
   ],
   "source": [
    "#Calculating the accuracy, precision, recall, f-measure\n",
    "theta = []\n",
    "for i in range(0,57):\n",
    "    theta.append(np.random.uniform(-1,1))\n",
    "\n",
    "l_rate = 0.01\n",
    "itr = 1500\n",
    "\n",
    "def d_func(x_new, y_train,theta):\n",
    "    z = len(y_train)\n",
    "    gd = []\n",
    "    loss = 0\n",
    "    for i in range(0,z):\n",
    "        g = 1/(1 + math.exp(-np.dot(x_new[i],theta)))\n",
    "        gd.append(g)\n",
    "        loss = loss + y_train[i] * np.log(g) + (1-y_train[i]) * np.log(1 - g)\n",
    "        if loss < pow(2,-23):\n",
    "            break\n",
    "    return loss,gd\n",
    "\n",
    "def g_descent(x_new,y_train,theta,l_rate,itr):\n",
    "    c_hist = [0] * itr\n",
    "    z = len(y_train)\n",
    "    x_trans = np.transpose(x_new)\n",
    "    gd = []\n",
    "    for i in range(itr):\n",
    "        loss,gd = d_func(x_new, y_train, theta)\n",
    "        y_sub = np.subtract(y_train,gd)\n",
    "        update = l_rate/z * np.dot(x_trans,y_sub)\n",
    "        theta = np.add(theta,update) \n",
    "        gd.clear()    \n",
    "    #print(loss)    \n",
    "    return theta, c_hist\n",
    "\n",
    "(b, c) = g_descent(x_new, y_train, theta, l_rate, itr)\n",
    "\n",
    "x_h = np.dot(b,np.transpose(x_test_new))\n",
    "\n",
    "y_pred = []\n",
    "for i in range(len(x_h)):\n",
    "    if(x_h[i]<0.5):\n",
    "        y_pred.append(0)\n",
    "    else:\n",
    "        y_pred.append(1)\n",
    "#print(ypred)\n",
    "\n",
    "a_count = 0\n",
    "for i in range(len(x_h)):\n",
    "    if(y_pred[i] == y_test[i]):\n",
    "        a_count = a_count + 1\n",
    "\n",
    "accuracy = 1/len(y_pred) * a_count * 100\n",
    "print(\"Accuracy:-\" , accuracy )\n",
    "\n",
    "true_p = 0\n",
    "false_n = 0\n",
    "false_p = 0\n",
    "true_n = 0\n",
    "for i in range (len(x_h)):\n",
    "    if(y_test[i] == 1 and y_pred[i] == 1):\n",
    "        true_p = true_p + 1\n",
    "    elif(y_test[i] == 1 and y_pred[i] == 0):\n",
    "        false_n = false_n + 1\n",
    "    elif(y_test[i] == 0 and y_pred[i] == 1):\n",
    "        false_p = false_p + 1\n",
    "    else:\n",
    "        true_n = true_n + 1\n",
    "\n",
    "precision = true_p/(true_p+false_p)\n",
    "\n",
    "recall =  true_p/(true_p+false_n)\n",
    "\n",
    "fmeasure = 2*precision*recall/(precision + recall)\n",
    "\n",
    "print(\"Precision:-\",precision)\n",
    "print(\"Recall:-\",recall)\n",
    "print(\"fmeasure:-\", fmeasure)"
   ]
  },
  {
   "cell_type": "code",
   "execution_count": null,
   "metadata": {},
   "outputs": [],
   "source": []
  }
 ],
 "metadata": {
  "kernelspec": {
   "display_name": "Python 3",
   "language": "python",
   "name": "python3"
  },
  "language_info": {
   "codemirror_mode": {
    "name": "ipython",
    "version": 3
   },
   "file_extension": ".py",
   "mimetype": "text/x-python",
   "name": "python",
   "nbconvert_exporter": "python",
   "pygments_lexer": "ipython3",
   "version": "3.7.4"
  }
 },
 "nbformat": 4,
 "nbformat_minor": 2
}
